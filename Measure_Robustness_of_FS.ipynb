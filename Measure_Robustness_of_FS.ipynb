{
 "cells": [
  {
   "cell_type": "code",
   "execution_count": 9,
   "metadata": {
    "collapsed": false
   },
   "outputs": [],
   "source": [
    "import matplotlib\n",
    "import matplotlib.pyplot as plt\n",
    "import scipy.io\n",
    "from skfeature.function.similarity_based import lap_score\n",
    "from skfeature.function.similarity_based import SPEC\n",
    "from skfeature.function.sparse_learning_based import MCFS\n",
    "from skfeature.function.sparse_learning_based import NDFS\n",
    "from skfeature.function.sparse_learning_based import UDFS\n",
    "from skfeature.function.statistical_based import low_variance\n",
    "from skfeature.utility.sparse_learning import feature_ranking\n",
    "from skfeature.utility import construct_W\n",
    "from skfeature.utility import unsupervised_evaluation\n",
    "import pandas as pd\n",
    "import numpy as np\n",
    "import re\n",
    "from time import time\n",
    "matplotlib.use('qt4agg')\n",
    "from skfeature.utility import construct_W\n",
    "from skfeature.utility import unsupervised_evaluation\n",
    "from sklearn import metrics"
   ]
  },
  {
   "cell_type": "code",
   "execution_count": 11,
   "metadata": {
    "collapsed": false
   },
   "outputs": [],
   "source": [
    "def lapScore(filename, X, y, Xselected, Nclusters):\n",
    "    \n",
    "    # construct affinity matrix\n",
    "    kwargs_W = {\"metric\": \"euclidean\", \"neighbor_mode\": \"knn\", \"weight_mode\": \"heat_kernel\", \"k\": 5, 't': 1}\n",
    "    W = construct_W.construct_W(X, **kwargs_W)\n",
    "\n",
    "    t0 = time()\n",
    "    # obtain the scores of features\n",
    "    score = lap_score.lap_score(X, W=W)\n",
    "    print filename+\"_lapScore_scoring_time elapsed: %.2fs\" % (time() - t0)\n",
    "    # sort the feature scores in an ascending order according to the feature scores\n",
    "    idx = lap_score.feature_ranking(score)\n",
    "    df = pd.DataFrame(idx)\n",
    "    df = df.assign(score=score)\n",
    "    np.savetxt(filename + \"_Ranking_LapScore.csv\", df, delimiter=\",\")\n",
    "    \n",
    "\n",
    "    t1 = time()\n",
    "    NMI = pd.Series()\n",
    "    ACC = pd.Series()\n",
    "    nmi_total = 0\n",
    "    acc_total = 0\n",
    "    # perform kmeans clustering based on the selected features and repeats ### times\n",
    "    for i in range(0, Xselected-Nclusters):\n",
    "        selected_features = X[:, idx[0:i+Nclusters]]\n",
    "        nmi, acc = unsupervised_evaluation.evaluation(X_selected=selected_features, n_clusters=Nclusters, y=y)\n",
    "        NMI = NMI.append(pd.Series(float(nmi)), ignore_index=True)\n",
    "        ACC = ACC.append(pd.Series(float(acc)), ignore_index=True)\n",
    "        nmi_total += nmi\n",
    "        acc_total += acc\n",
    "    print filename+\"_laplace_evaluation_time elapsed: %.2fs\" % (time() - t1)\n",
    "    print 'AVG ACC:', float(acc_total)/Xselected\n",
    "    print 'AVG NMI:', float(nmi_total)/Xselected\n",
    "    \n",
    "    \n",
    "    plt.figure(1)\n",
    "    plt.plot(NMI, label='laplace')\n",
    "    plt.figure(2)\n",
    "    plt.plot(ACC, label='laplace')\n",
    "    \n",
    "    np.savetxt(filename+\"_NMI_laplace.csv\", NMI, delimiter=\",\")\n",
    "    np.savetxt(filename+\"_ACC_laplace.csv\", ACC, delimiter=\",\")"
   ]
  },
  {
   "cell_type": "code",
   "execution_count": 12,
   "metadata": {
    "collapsed": true
   },
   "outputs": [],
   "source": [
    "def spec(filename, X, y, Xselected, Nclusters):\n",
    "    \n",
    "    # specify the second ranking function which uses all except the 1st eigenvalue\n",
    "    kwargs = {'style': 0}\n",
    "\n",
    "    # obtain the scores of features\n",
    "    t0 = time()\n",
    "    score = SPEC.spec(X, **kwargs)\n",
    "    print filename+\"_spec_scoring_time elapsed: %.2fs\" % (time() - t0)\n",
    "    # sort the feature scores in an ascending order according to the feature scores\n",
    "    idx = SPEC.feature_ranking(score, **kwargs)\n",
    "    df = pd.DataFrame(idx)\n",
    "    df = df.assign(score=score)\n",
    "    np.savetxt(filename + \"_Ranking_spec.csv\", df, delimiter=\",\")\n",
    "    \n",
    "    \n",
    "    t1 = time()\n",
    "    NMI = pd.Series()\n",
    "    ACC = pd.Series()\n",
    "    nmi_total = 0\n",
    "    acc_total = 0\n",
    "    # perform kmeans clustering based on the selected features and repeats ### times\n",
    "    for i in range(0, Xselected-Nclusters):\n",
    "        selected_features = X[:, idx[0:i+Nclusters]]\n",
    "        nmi, acc = unsupervised_evaluation.evaluation(X_selected=selected_features, n_clusters=Nclusters, y=y)\n",
    "        NMI = NMI.append(pd.Series(float(nmi)), ignore_index=True)\n",
    "        ACC = ACC.append(pd.Series(float(acc)), ignore_index=True)\n",
    "        nmi_total += nmi\n",
    "        acc_total += acc\n",
    "    print filename+\"_spec_evaluation_time elapsed: %.2fs\" % (time() - t1)\n",
    "    print 'AVG ACC:', float(acc_total)/Xselected\n",
    "    print 'AVG NMI:', float(nmi_total)/Xselected\n",
    "    \n",
    "        \n",
    "    plt.figure(1)\n",
    "    plt.plot(NMI, label='spec')\n",
    "    plt.figure(2)\n",
    "    plt.plot(ACC, label='spec')\n",
    "    \n",
    "    np.savetxt(filename+\"_NMI_spec.csv\", NMI, delimiter=\",\")\n",
    "    np.savetxt(filename+\"_ACC_spec.csv\", ACC, delimiter=\",\")\n",
    "    "
   ]
  },
  {
   "cell_type": "code",
   "execution_count": 13,
   "metadata": {
    "collapsed": true
   },
   "outputs": [],
   "source": [
    "def mcfs(filename, X, y, Xselected, Nclusters):\n",
    "    \n",
    "    # construct affinity matrix\n",
    "    kwargs = {\"metric\": \"euclidean\", \"neighborMode\": \"knn\", \"weightMode\": \"heatKernel\", \"k\": 5, 't': 1}\n",
    "    W = construct_W.construct_W(X, **kwargs)\n",
    "\n",
    "    # obtain the feature weight matrix\n",
    "    t0 = time()\n",
    "    Weight = MCFS.mcfs(X, n_selected_features=Xselected, W=W, n_clusters=Nclusters)\n",
    "    print filename+\"_mcfs_scoring_time elapsed: %.2fs\" % (time() - t0)\n",
    "    # sort the feature scores in an ascending order according to the feature scores\n",
    "    idx = MCFS.feature_ranking(Weight)\n",
    "#    df = pd.DataFrame(idx)\n",
    "#    df = df.assign(weight=Weight)\n",
    "#    np.savetxt(filename + \"_Ranking_mcfs.csv\", df, delimiter=\",\")\n",
    "    \n",
    "    \n",
    "    t1 = time()\n",
    "    NMI = pd.Series()\n",
    "    ACC = pd.Series()\n",
    "    nmi_total = 0\n",
    "    acc_total = 0\n",
    "    # perform kmeans clustering based on the selected features and repeats ### times\n",
    "    for i in range(0, Xselected-Nclusters):\n",
    "        selected_features = X[:, idx[0:i+Nclusters]]\n",
    "        nmi, acc = unsupervised_evaluation.evaluation(X_selected=selected_features, n_clusters=Nclusters, y=y)\n",
    "        NMI = NMI.append(pd.Series(float(nmi)), ignore_index=True)\n",
    "        ACC = ACC.append(pd.Series(float(acc)), ignore_index=True)\n",
    "        nmi_total += nmi\n",
    "        acc_total += acc\n",
    "    print filename+\"_mcfs_evaluation_time elapsed: %.2fs\" % (time() - t1)\n",
    "    print 'AVG ACC:', float(acc_total)/Xselected\n",
    "    print 'AVG NMI:', float(nmi_total)/Xselected\n",
    "    \n",
    "        \n",
    "    plt.figure(1)\n",
    "    plt.plot(NMI, label='mcfs')\n",
    "    plt.figure(2)\n",
    "    plt.plot(ACC, label='mcfs')\n",
    "    \n",
    "    np.savetxt(filename+\"_NMI_mcfs.csv\", NMI, delimiter=\",\")\n",
    "    np.savetxt(filename+\"_ACC_mcfs.csv\", ACC, delimiter=\",\")\n",
    "    "
   ]
  },
  {
   "cell_type": "code",
   "execution_count": 16,
   "metadata": {
    "collapsed": true
   },
   "outputs": [],
   "source": [
    "def tda(filename, X, y, Xselected, Nclusters):\n",
    "    \n",
    "    csv = pd.read_csv('../data/TDA_'+filename+'.csv')\n",
    "    noLabel = csv.loc[1:,:]\n",
    "    #filtered = noLabel.loc[noLabel[' P-value'] < 2]\n",
    "    replaced = noLabel['Column Name'].map(lambda x: re.sub(r'Column_', '', x))\n",
    "    idx = pd.to_numeric(replaced).values\n",
    "    \n",
    "    t1 = time()\n",
    "    NMI = pd.Series()\n",
    "    ACC = pd.Series()\n",
    "    nmi_total = 0\n",
    "    acc_total = 0\n",
    "    # perform kmeans clustering based on the selected features and repeats ### times\n",
    "    for i in range(0, Xselected-Nclusters):\n",
    "        selected_features = X[:, idx[0:i+Nclusters]]\n",
    "        nmi, acc = unsupervised_evaluation.evaluation(X_selected=selected_features, n_clusters=Nclusters, y=y)\n",
    "        NMI = NMI.append(pd.Series(float(nmi)), ignore_index=True)\n",
    "        ACC = ACC.append(pd.Series(float(acc)), ignore_index=True)\n",
    "        nmi_total += nmi\n",
    "        acc_total += acc\n",
    "    print filename+\"_tda_evaluation_time elapsed: %.2fs\" % (time() - t1)\n",
    "    print 'AVG ACC:', float(acc_total)/Xselected\n",
    "    print 'AVG NMI:', float(nmi_total)/Xselected\n",
    "    \n",
    "    \n",
    "    plt.figure(1)\n",
    "    plt.plot(NMI, label=\"TDA\", markevery=10)   \n",
    "    plt.figure(2) \n",
    "    plt.plot(ACC, label=\"TDA\", markevery=10)\n",
    "\n",
    "    \n",
    "    np.savetxt(filename+\"_NMI_tda.csv\", NMI, delimiter=\",\")\n",
    "    np.savetxt(filename+\"_ACC_tda.csv\", ACC, delimiter=\",\")"
   ]
  },
  {
   "cell_type": "code",
   "execution_count": null,
   "metadata": {
    "collapsed": true
   },
   "outputs": [],
   "source": []
  },
  {
   "cell_type": "markdown",
   "metadata": {
    "collapsed": true
   },
   "source": [
    "# MAIN"
   ]
  },
  {
   "cell_type": "code",
   "execution_count": null,
   "metadata": {
    "collapsed": false
   },
   "outputs": [
    {
     "name": "stdout",
     "output_type": "stream",
     "text": [
      "USPS_lapScore_scoring_time elapsed: 1.06s\n",
      "USPS_laplace_evaluation_time elapsed: 458.29s\n",
      "AVG ACC: 0.41418789499\n",
      "AVG NMI: 0.391502618532\n",
      "USPS_spec_scoring_time elapsed: 253.46s\n"
     ]
    }
   ],
   "source": [
    "# setting for loading, modeling and evaluation\n",
    "num_fea = [210, 220, 240, 202, 203, 204, 207, 209, 211, 202, 202, 202]        \n",
    "n_clusters = [10, 20, 40, 2, 3, 4, 7, 9, 11, 2, 2, 2]\n",
    "filename = [\"USPS\",\"COIL20\",\"ORL\", \"ALLAML\",\"CLL_SUB_111\",\"TOX_171\",\"lung_discrete\",\"lymphoma\", \"Carcinom\",\"BASEHOCK\", \"PCMAC\", \"RELATHE\"]\n",
    "\n",
    "\n",
    "# linear execution based on the data file\n",
    "for i in range(0, len(filename)):      \n",
    "\n",
    "    mat = scipy.io.loadmat('../data/' + filename[i] + '.mat')\n",
    "    X = mat['X']    # data\n",
    "    X = X.astype(float)\n",
    "    y = mat['Y']    # label\n",
    "    y = y[:, 0]\n",
    "\n",
    "    lapScore(filename[i], X, y, num_fea[i], n_clusters[i])\n",
    "    spec(filename[i], X, y, num_fea[i], n_clusters[i])\n",
    "    mcfs(filename[i], X, y, num_fea[i], n_clusters[i])\n",
    "    tda(filename[i], X, y, num_fea[i], n_clusters[i])\n",
    "\n",
    "    plt.figure(1)\n",
    "    plt.xlabel(\"Number of features\")\n",
    "    plt.ylabel(\"Normalized Mutual Information Score\")\n",
    "    plt.figure(2)\n",
    "    plt.xlabel(\"Number of features\")\n",
    "    plt.ylabel(\"Accuracy\")\n",
    "\n",
    "    plt.figure(1)\n",
    "    plt.ylim(0,0.9)\n",
    "    plt.title(filename[i]+'_NMI')\n",
    "    plt.savefig(filename[i] +'_NMI.png', dpi=200)\n",
    "    plt.figure(2)\n",
    "    plt.ylim(0,0.9)\n",
    "    plt.title(filename[i]+'_ACC')\n",
    "    plt.savefig(filename[i] +'_ACC.png', dpi=200)\n",
    "\n",
    "    plt.close('all')"
   ]
  },
  {
   "cell_type": "code",
   "execution_count": null,
   "metadata": {
    "collapsed": true
   },
   "outputs": [],
   "source": []
  },
  {
   "cell_type": "code",
   "execution_count": null,
   "metadata": {
    "collapsed": true
   },
   "outputs": [],
   "source": []
  },
  {
   "cell_type": "markdown",
   "metadata": {
    "collapsed": false
   },
   "source": [
    "# Print data in the memory when unexpected error occurs"
   ]
  },
  {
   "cell_type": "code",
   "execution_count": 24,
   "metadata": {
    "collapsed": true
   },
   "outputs": [],
   "source": [
    "plt.figure(1)\n",
    "plt.xlabel(\"Number of features\")\n",
    "plt.ylabel(\"Normalized Mutual Information Score\")\n",
    "plt.figure(2)\n",
    "plt.xlabel(\"Number of features\")\n",
    "plt.ylabel(\"Accuracy\")\n",
    "\n",
    "plt.figure(1)\n",
    "plt.ylim(0,0.9)\n",
    "plt.title('Carcinom_NMI')\n",
    "plt.savefig('Carcinom_NMI.png', dpi=200)\n",
    "plt.figure(2)\n",
    "plt.ylim(0,0.9)\n",
    "plt.title('Carcinom_ACC')\n",
    "plt.savefig('Carcinom_ACC.png', dpi=200)\n",
    "\n",
    "plt.close('all')"
   ]
  },
  {
   "cell_type": "code",
   "execution_count": null,
   "metadata": {
    "collapsed": true
   },
   "outputs": [],
   "source": []
  }
 ],
 "metadata": {
  "kernelspec": {
   "display_name": "Python 2",
   "language": "python",
   "name": "python2"
  },
  "language_info": {
   "codemirror_mode": {
    "name": "ipython",
    "version": 2
   },
   "file_extension": ".py",
   "mimetype": "text/x-python",
   "name": "python",
   "nbconvert_exporter": "python",
   "pygments_lexer": "ipython2",
   "version": "2.7.13"
  }
 },
 "nbformat": 4,
 "nbformat_minor": 2
}
